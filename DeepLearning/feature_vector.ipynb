{
 "cells": [
  {
   "cell_type": "code",
   "execution_count": 4,
   "metadata": {},
   "outputs": [],
   "source": [
    "import os\n",
    "\n",
    "import numpy as np\n",
    "import pandas as pd\n",
    "import tensorflow as tf\n",
    "\n",
    "# To plot pretty figures\n",
    "%matplotlib inline\n",
    "import matplotlib\n",
    "import matplotlib.pyplot as plt\n",
    "plt.rcParams['axes.labelsize'] = 14\n",
    "plt.rcParams['xtick.labelsize'] = 12\n",
    "plt.rcParams['ytick.labelsize'] = 12\n",
    "\n",
    "path_root = \"/data/datasets/simulation_data/frames\""
   ]
  },
  {
   "cell_type": "code",
   "execution_count": 5,
   "metadata": {},
   "outputs": [
    {
     "ename": "NameError",
     "evalue": "name 'frame_particle' is not defined",
     "traceback": [
      "\u001b[0;31m---------------------------------------------------------------------------\u001b[0m",
      "\u001b[0;31mNameError\u001b[0m                                 Traceback (most recent call last)",
      "\u001b[0;32m<ipython-input-5-6034f197c8de>\u001b[0m in \u001b[0;36m<module>\u001b[0;34m()\u001b[0m\n\u001b[1;32m      5\u001b[0m \u001b[0mf\u001b[0m \u001b[0;34m=\u001b[0m \u001b[0mopen\u001b[0m\u001b[0;34m(\u001b[0m\u001b[0;34m\"feature_vectors.csv\"\u001b[0m\u001b[0;34m,\u001b[0m\u001b[0;34m\"w+\"\u001b[0m\u001b[0;34m)\u001b[0m\u001b[0;34m\u001b[0m\u001b[0m\n\u001b[1;32m      6\u001b[0m \u001b[0mf_labels\u001b[0m \u001b[0;34m=\u001b[0m \u001b[0mopen\u001b[0m\u001b[0;34m(\u001b[0m\u001b[0;34m\"feature_vectors_labels.csv\"\u001b[0m\u001b[0;34m,\u001b[0m\u001b[0;34m\"w+\"\u001b[0m\u001b[0;34m)\u001b[0m\u001b[0;34m\u001b[0m\u001b[0m\n\u001b[0;32m----> 7\u001b[0;31m \u001b[0mnumber_particles\u001b[0m \u001b[0;34m=\u001b[0m \u001b[0mlen\u001b[0m\u001b[0;34m(\u001b[0m\u001b[0mframe_particle\u001b[0m\u001b[0;34m)\u001b[0m\u001b[0;34m\u001b[0m\u001b[0m\n\u001b[0m\u001b[1;32m      8\u001b[0m \u001b[0;32mfor\u001b[0m \u001b[0mi\u001b[0m \u001b[0;32min\u001b[0m \u001b[0mrange\u001b[0m\u001b[0;34m(\u001b[0m\u001b[0mnumber_particles\u001b[0m\u001b[0;34m)\u001b[0m\u001b[0;34m:\u001b[0m\u001b[0;34m\u001b[0m\u001b[0m\n\u001b[1;32m      9\u001b[0m     \u001b[0mf\u001b[0m\u001b[0;34m.\u001b[0m\u001b[0mwritelines\u001b[0m\u001b[0;34m(\u001b[0m\u001b[0mstr\u001b[0m\u001b[0;34m(\u001b[0m\u001b[0mi\u001b[0m\u001b[0;34m)\u001b[0m\u001b[0;34m)\u001b[0m\u001b[0;34m\u001b[0m\u001b[0m\n",
      "\u001b[0;31mNameError\u001b[0m: name 'frame_particle' is not defined"
     ],
     "output_type": "error"
    }
   ],
   "source": [
    "# +selected pirticle\n",
    "import random\n",
    "\n",
    "# 密度，需要进行采样，但这里对所有的粒子进行了求解\n",
    "f = open(\"feature_vectors.csv\",\"w+\") \n",
    "f_labels = open(\"feature_vectors_labels.csv\",\"w+\") \n",
    "number_particles = len(frame_particle)\n",
    "for i in range(number_particles):\n",
    "    f.writelines(str(i))\n",
    "    f.writelines(\",\")\n",
    "    for num in range(100):\n",
    "        theta = random.random()\n",
    "        for j in range(number_particles):\n",
    "            if i == j:\n",
    "                continue\n",
    "\n",
    "            if j == number_particles-1:\n",
    "                j = number_particles-100\n",
    "\n",
    "            if j == i+1:\n",
    "                # 表面张力\n",
    "                delta_px = theta*(float(frame_particle[i,0]) - float(frame_particle[j,0]))\n",
    "                delta_py = theta*(float(frame_particle[i,1]) - float(frame_particle[j,1]))\n",
    "                delta_pz = theta*(float(frame_particle[i,2])- float(frame_particle[j,2]))\n",
    "\n",
    "                # 粘性力\n",
    "                delta_vx = theta*(float(frame_particle[i,0]) - float(frame_particle[j,0]))\n",
    "                delta_vy = theta*(float(frame_particle[i,1]) - float(frame_particle[j,1]))\n",
    "                delta_vz = theta*(float(frame_particle[i,2]) - float(frame_particle[j,2]))\n",
    "\n",
    "                #密度\n",
    "                density = theta*(delta_px + delta_py + delta_pz)\n",
    "\n",
    "                # 压强力\n",
    "                px = theta*(density*delta_px)\n",
    "                py = theta*(density*delta_py)\n",
    "                pz = theta*(density*delta_pz)\n",
    "\n",
    "                all_props = [delta_px, delta_py, delta_pz, delta_vx, delta_vy, delta_vz, density, px, py, pz]\n",
    "                all_props = \",\".join(list(map(str,all_props)))\n",
    "\n",
    "        f.writelines(all_props)\n",
    "        f.writelines(',')\n",
    "        f.flush()\n",
    "    f.writelines('\\n')\n",
    "#     f_labels.write(\",\".join(list(map(str,[i,frame_particle[i,9], frame_particle[i,10], frame_particle[i,11]]))))\n",
    "f.close()\n",
    "# f_labels"
   ]
  },
  {
   "cell_type": "code",
   "execution_count": 7,
   "metadata": {},
   "outputs": [],
   "source": [
    "# for i in range(0,2000,100):\n",
    "#     file_path = os.path.join(data_dir_path, \"particles_%d.csv\"%i)\n",
    "#     frame_particle = np.loadtxt(file_path, dtype=np.str, delimiter=\",\")\n",
    "#     plot_3d_scater(frame_particle)\n",
    "\n",
    "\n",
    "# for i in range(0,20000,1000):\n",
    "#     file_path = os.path.join(data_dir_path, \"particles_%d.csv\"%i)\n",
    "#     frame_particle = np.loadtxt(file_path, dtype=np.str, delimiter=\",\")\n",
    "#     print(\"min:\", min(frame_particle[:,0]), min(frame_particle[:,1]), min(frame_particle[:,2]),\\\n",
    "#          \"max:\", max(frame_particle[:,0]), max(frame_particle[:,1]), max(frame_particle[:,2]))"
   ]
  },
  {
   "cell_type": "code",
   "execution_count": 11,
   "metadata": {},
   "outputs": [
    {
     "data": {
      "image/png": "[encoded data removed]",
      "text/plain": [
       "<matplotlib.figure.Figure at 0x7f9181767d30>"
      ]
     },
     "metadata": {},
     "output_type": "display_data"
    }
   ],
   "source": [
    "\"\"\"\n",
    "plot figure\n",
    "\"\"\"\n",
    "import numpy as np\n",
    "\n",
    "import matplotlib.pyplot as plt\n",
    "from matplotlib import cm\n",
    "from mpl_toolkits.mplot3d import Axes3D\n",
    "\n",
    "def plot_3d():\n",
    "    X = np.arange(-5, 5, 0.25)\n",
    "    Y = np.arange(-5, 5, 0.25)\n",
    "    X, Y = np.meshgrid(X, Y)\n",
    "    R = np.sqrt(X**2 + Y**2)\n",
    "    Z = np.sin(R)\n",
    "    \n",
    "    fig = plt.figure()\n",
    "    ax = Axes3D(fig)\n",
    "    ax.plot_surface(X, Y, Z, rstride=1, cstride=1, cmap=cm.viridis)\n",
    "    \n",
    "    plt.show()\n",
    "\n",
    "def plot_3d_scater(frame_particle):\n",
    "    fig = plt.figure()\n",
    "    ax = fig.add_subplot(111, projection='3d')\n",
    "\n",
    "    x = list(map(float,frame_particle[1:,0]))\n",
    "    y = list(map(float,frame_particle[1:,1]))\n",
    "    z = list(map(float,frame_particle[1:,2]))\n",
    "    ax.scatter(x, y, z, c=\"b\", marker='o')\n",
    "\n",
    "    ax.set_xlabel('X Label')\n",
    "    ax.set_ylabel('Y Label')\n",
    "    ax.set_zlabel('Z Label')\n",
    "\n",
    "    plt.show()\n",
    "\n",
    "particle_path_2000 = os.path.join(path_root, \"fluid_particles_2000.csv\")\n",
    "file_path = particle_path_2000\n",
    "frame_particle_2000 = np.loadtxt(file_path, dtype=np.str, delimiter=\",\")   \n",
    "plot_3d_scater(frame_particle_2000)\n"
   ]
  },
  {
   "cell_type": "code",
   "execution_count": 13,
   "metadata": {
    "collapsed": false
   },
   "outputs": [
    {
     "name": "stdout",
     "output_type": "stream",
     "text": [
      "(33635, 19)\n"
     ]
    },
    {
     "data": {
      "text/plain": [
       "array(['acceleration_x', 'acceleration_y', 'acceleration_z'],\n      dtype='<U15')"
      ]
     },
     "execution_count": 13,
     "metadata": {},
     "output_type": "execute_result"
    }
   ],
   "source": [
    "\"\"\"\n",
    "100 methods for data preprocess\n",
    "\"\"\"\n",
    "#frame_particle = pd.read_csv(file_path)\n",
    "frame_particle = np.loadtxt(file_path, dtype=np.str, delimiter=\",\")\n",
    "print(frame_particle.shape)\n",
    "# 数据表头\n",
    "\"\"\"\n",
    "'position_x', 'position_y', 'position_z', 'velocity_x',\n",
    "' velocity_y', 'velocity_z', 'timestep', 'isFluidSolid', 'source',\n",
    "'out_position_x', 'out_position_y', 'out_position_z',\n",
    "'out_velocity_x', ' out_velocity_y', 'out_velocity_z',\n",
    "'acceleration_x', 'acceleration_y', 'acceleration_z'\n",
    "\"\"\"\n",
    "frame_particle_2000[0,-4:-1]"
   ]
  },
  {
   "cell_type": "code",
   "execution_count": 14,
   "metadata": {},
   "outputs": [
    {
     "name": "stdout",
     "output_type": "stream",
     "text": [
      "['-3.82815' '1.28601' '-3.76395' '0.0876288' '3.38591' '-0.321719'\n '0.00115988' '0' '0' '-3.82805' '1.28991' '-3.76432' '0.087473' '3.3603'\n '-0.324974' '-0.134277' '-22.0767' '-2.80625']\n"
     ]
    }
   ],
   "source": [
    "allfiles = os.listdir(path_root)\n",
    "file_names = []\n",
    "for file_name in allfiles:\n",
    "    if file_name.endswith(\".csv\"):\n",
    "        file_names.append(file_name)\n",
    "\n",
    "for filename in file_names:\n",
    "    if filename.find(\"2000\") > -1:\n",
    "        # todo\n",
    "        \"先对某一帧进行处理\"\n",
    "        file_path = os.path.join(path_root, filename)\n",
    "        frame_particle = np.loadtxt(file_path, dtype=np.str, delimiter=\",\")\n",
    "        print(frame_particle[1,:-1])\n",
    "        propertities = frame_particle[1:,0:8]\n",
    "        acc = frame_particle[1:, -4:-1]\n"
   ]
  },
  {
   "cell_type": "code",
   "execution_count": 16,
   "metadata": {},
   "outputs": [],
   "source": [
    "\"\"\"\n",
    "mnist\n",
    "\"\"\"\n",
    "# from tensorflow.examples.tutorials.mnist import input_data\n",
    "# # mnist = input_data.read_data_sets(\"/tmp/data\")\n",
    "# mnist = input_data.read_data_sets(\"/Users/changxin/Documents/UnityPK/datasets/MNIST\")\n",
    "# \n",
    "# training_num = mnist.train.num_examples\n",
    "# training_rate = 0.8\n",
    "# training_size = int(training_num * training_rate)\n",
    "# \n",
    "# X_train = mnist.train.images\n",
    "# X_test = mnist.test.images\n",
    "# y_train = mnist.train.labels\n",
    "# y_test = mnist.test.labels\n",
    "\n",
    "\"\"\"\n",
    "particle\n",
    "\"\"\"\n",
    "training_num = propertities.shape[0]\n",
    "training_rate = 0.8\n",
    "training_size = int(training_num * training_rate)\n",
    "\n",
    "X_train = propertities[:training_size]\n",
    "X_test = propertities[training_size:]\n",
    "y_train = acc[:training_size]\n",
    "y_test = acc[training_size:]"
   ]
  },
  {
   "cell_type": "code",
   "execution_count": 20,
   "metadata": {},
   "outputs": [
    {
     "data": {
      "text/plain": [
       "(33634, 3)"
      ]
     },
     "execution_count": 20,
     "metadata": {},
     "output_type": "execute_result"
    }
   ],
   "source": [
    "acc.shape"
   ]
  },
  {
   "cell_type": "code",
   "execution_count": 12,
   "metadata": {},
   "outputs": [],
   "source": [
    "from importlib import reload\n"
   ]
  },
  {
   "cell_type": "code",
   "execution_count": 13,
   "metadata": {},
   "outputs": [],
   "source": [
    "# from DeepLearning import experiment\n",
    "# reload(experiment)\n",
    "# experiment.net_structure(X_train=X_train, X_test=X_test, y_train=y_train, y_test=y_test)"
   ]
  },
  {
   "cell_type": "code",
   "execution_count": 14,
   "metadata": {},
   "outputs": [],
   "source": [
    ""
   ]
  },
  {
   "cell_type": "code",
   "execution_count": 39,
   "metadata": {
    "scrolled": true
   },
   "outputs": [],
   "source": [
    ""
   ]
  },
  {
   "cell_type": "code",
   "execution_count": 66,
   "metadata": {},
   "outputs": [],
   "source": [
    ""
   ]
  },
  {
   "cell_type": "code",
   "execution_count": 66,
   "metadata": {},
   "outputs": [],
   "source": [
    ""
   ]
  },
  {
   "cell_type": "code",
   "execution_count": 66,
   "metadata": {},
   "outputs": [
    {
     "data": {
      "text/plain": [
       "array([7, 3, 4, ..., 5, 6, 8], dtype=uint8)"
      ]
     },
     "execution_count": 18,
     "metadata": {},
     "output_type": "execute_result"
    }
   ],
   "source": [
    ""
   ]
  },
  {
   "cell_type": "code",
   "execution_count": 32,
   "metadata": {},
   "outputs": [
    {
     "data": {
      "text/plain": [
       "'\\n    对于损失函数的定义尚有疑虑，再行考虑,目前姑且先使用均方差吧\\n    '"
      ]
     },
     "execution_count": 32,
     "metadata": {},
     "output_type": "execute_result"
    },
    {
     "data": {
      "text/plain": [
       "'\\n    添加summary，以调用tensorboard进行检测\\n    '"
      ]
     },
     "execution_count": 32,
     "metadata": {},
     "output_type": "execute_result"
    },
    {
     "name": "stdout",
     "output_type": "stream",
     "text": [
      "Build graph end.\ninf [[  1.54632328e+33]\n [  1.54632328e+33]\n [  1.54632328e+33]\n ..., \n [  1.54632328e+33]\n [  1.54632328e+33]\n [  1.54632328e+33]]\n1\tLast training batch loss: inf\n"
     ]
    }
   ],
   "source": [
    "from tensorflow.contrib.layers import fully_connected\n",
    "\n",
    "n_inputs = X_train.shape[1]\n",
    "n_outputs = 1\n",
    "\n",
    "def reset_graph(seed=42):\n",
    "    tf.reset_default_graph()\n",
    "    tf.set_random_seed(seed)\n",
    "    np.random.seed(seed)\n",
    "reset_graph()\n",
    "\n",
    "\n",
    "\n",
    "from datetime import datetime\n",
    "\n",
    "def log_dir(prefix=\"\"):\n",
    "    now = datetime.utcnow().strftime(\"%Y%m%d%H%M%S\")\n",
    "    root_logdir = \"tf_logs\"\n",
    "    if prefix:\n",
    "        prefix += \"-\"\n",
    "    name = prefix + \"run-\" + now\n",
    "    return \"{}/{}/\".format(root_logdir, name)\n",
    "\n",
    "graph = tf.Graph()\n",
    "with graph.as_default():\n",
    "    he_init = tf.contrib.layers.variance_scaling_initializer()\n",
    "    X = tf.placeholder(tf.float32, shape=(None, n_inputs), name=\"X\")\n",
    "    y = tf.placeholder(tf.float32, shape=(None), name=\"y\")\n",
    "    \n",
    "    def dnn(inputs, n_hidden_layers=1, n_neurons=8, name=None, activation=tf.nn.elu, initializer=he_init):\n",
    "        with tf.name_scope(\"dnn\"):\n",
    "            for layer in range(n_hidden_layers):\n",
    "                inputs = tf.layers.dense(inputs, n_neurons, activation=activation, \\\n",
    "                                         kernel_initializer=initializer, name=\"hidden%d\" % (layer + 1))\n",
    "        return inputs\n",
    "    \n",
    "    dnn_outputs = dnn(X)\n",
    "    logits = fully_connected(dnn_outputs, n_outputs, scope=\"outputs\", activation_fn=None)\n",
    "\n",
    "    \"\"\"\n",
    "    对于损失函数的定义尚有疑虑，再行考虑,目前姑且先使用均方差吧\n",
    "    \"\"\"\n",
    "    with tf.name_scope(\"train\"):\n",
    "        loss = tf.reduce_mean(tf.square(logits-y))\n",
    "        optimizer = tf.train.AdamOptimizer()\n",
    "        training_op = optimizer.minimize(loss)\n",
    "    \"\"\"\n",
    "    添加summary，以调用tensorboard进行检测\n",
    "    \"\"\"\n",
    "\n",
    "\n",
    "    logdir = log_dir(\"fluids\")\n",
    "    with tf.name_scope(\"summary\"):\n",
    "        loss_summary = tf.summary.scalar(\"log_loss\", loss)\n",
    "        file_writer = tf.summary.FileWriter(logdir, tf.get_default_graph())\n",
    "        var = tf.get_collection(tf.GraphKeys.GLOBAL_VARIABLES)\n",
    "    init = tf.global_variables_initializer()\n",
    "    saver = tf.train.Saver()\n",
    "print(\"Build graph end.\")\n",
    "n_epochs = 1000\n",
    "batch_size = 3000\n",
    "\n",
    "# needed in case of early stopping\n",
    "max_checks_without_progress = 20\n",
    "checks_without_progress = 0\n",
    "best_loss = np.infty\n",
    "best_params = None\n",
    "\n",
    "checkpoint_path = \"/tmp/my_fluid_model.ckpt\"\n",
    "checkpoint_epoch_path = checkpoint_path + \".epoch\"\n",
    "final_model_path = \"./my_fluid_model\"\n",
    "\n",
    "# X_train = \"\"\n",
    "# y_train = \"\"\n",
    "# X_valid = \"\"\n",
    "# y_valid = \"\"\n",
    "# X_test = \"\"\n",
    "# y_test = \"\"\n",
    "\n",
    "\n",
    "session = tf.Session(graph=graph)\n",
    "\n",
    "with session.as_default() as sess:\n",
    "    sess.run(init)\n",
    "    X_batch, y_batch = X_train[0:batch_size], y_train[0:batch_size]\n",
    "    # X_batch, y_batch = mnist.train.next_batch(batch_size)\n",
    "    sess.run(training_op, feed_dict={X: X_batch, y: y_batch})\n",
    "    loss_train, logits, var= sess.run([loss, logits, var], feed_dict={X: X_test, y: y_test})\n",
    "    print(loss_train, logits)\n",
    "    print(\"{}\\tLast training batch loss: {:.6f}\".format(1, loss_train))\n",
    "\n",
    "\n"
   ]
  },
  {
   "cell_type": "code",
   "execution_count": 31,
   "metadata": {},
   "outputs": [
    {
     "data": {
      "text/plain": [
       "array([['-3.82815', '1.28601', '-3.76395', ..., '-0.321719', '0.00115988',\n        '0'],\n       ['-3.74811', '1.24472', '-3.8219', ..., '-0.196457', '0.00115988',\n        '0'],\n       ['-2.74872', '1.08544', '-3.01274', ..., '3.35758', '0.00115988',\n        '0'],\n       ..., \n       ['2.32805', '0.0797056', '-2.97639', ..., '-2.87686', '0.00115988',\n        '0'],\n       ['0.533605', '0.0563533', '-0.958011', ..., '-0.57395',\n        '0.00115988', '0'],\n       ['3.78367', '0.084135', '-2.60465', ..., '-2.58379', '0.00115988',\n        '0']],\n      dtype='<U15')"
      ]
     },
     "execution_count": 31,
     "metadata": {},
     "output_type": "execute_result"
    }
   ],
   "source": [
    "X_train[0:batch_size]"
   ]
  },
  {
   "cell_type": "code",
   "execution_count": 57,
   "metadata": {},
   "outputs": [],
   "source": []
  },
  {
   "cell_type": "code",
   "execution_count": null,
   "metadata": {},
   "outputs": [],
   "source": []
  }
 ],
 "metadata": {
  "kernelspec": {
   "display_name": "Python 3",
   "language": "python",
   "name": "python3"
  },
  "language_info": {
   "codemirror_mode": {
    "name": "ipython",
    "version": 3
   },
   "file_extension": ".py",
   "mimetype": "text/x-python",
   "name": "python",
   "nbconvert_exporter": "python",
   "pygments_lexer": "ipython3",
   "version": "3.5.4"
  }
 },
 "nbformat": 4,
 "nbformat_minor": 1
}
